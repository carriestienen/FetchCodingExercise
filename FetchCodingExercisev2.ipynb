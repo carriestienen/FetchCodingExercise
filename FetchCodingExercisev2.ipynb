{
 "cells": [
  {
   "cell_type": "markdown",
   "metadata": {},
   "source": [
    "# Fetch Rewards Coding Exercise\n",
    "# Text Similiarity\n",
    "## Carolyn Stienen"
   ]
  },
  {
   "cell_type": "code",
   "execution_count": 1,
   "metadata": {},
   "outputs": [],
   "source": [
    "import textsimilarity as ts\n",
    "import matplotlib.pyplot as plt\n",
    "import numpy as np"
   ]
  },
  {
   "cell_type": "code",
   "execution_count": 2,
   "metadata": {},
   "outputs": [],
   "source": [
    "sample1_txt = open(\"sample1.txt\").read()\n",
    "sample2_txt = open(\"sample2.txt\").read()\n",
    "sample3_txt = open(\"sample3.txt\").read()"
   ]
  },
  {
   "cell_type": "markdown",
   "metadata": {},
   "source": [
    "To start off I tried something basic: compare all the words and calculate how many were the same out of the total."
   ]
  },
  {
   "cell_type": "code",
   "execution_count": 3,
   "metadata": {},
   "outputs": [
    {
     "name": "stdout",
     "output_type": "stream",
     "text": [
      "The similarity between samples 1 and 1 is: 1.000000\n",
      "The similarity between samples 1 and 2 is: 0.827068\n",
      "The similarity between samples 1 and 3 is: 0.417266\n",
      "The similarity between samples 2 and 3 is: 0.409722\n"
     ]
    }
   ],
   "source": [
    "similarity_score = ts.calculate_similarity(sample1_txt,sample1_txt)\n",
    "print(\"The similarity between samples 1 and 1 is: %f\" % similarity_score)\n",
    "\n",
    "similarity_score = ts.calculate_similarity(sample1_txt,sample2_txt)\n",
    "print(\"The similarity between samples 1 and 2 is: %f\" % similarity_score)\n",
    "\n",
    "similarity_score = ts.calculate_similarity(sample1_txt,sample3_txt)\n",
    "print(\"The similarity between samples 1 and 3 is: %f\" % similarity_score)\n",
    "\n",
    "similarity_score = ts.calculate_similarity(sample2_txt,sample3_txt)\n",
    "print(\"The similarity between samples 2 and 3 is: %f\" % similarity_score)"
   ]
  },
  {
   "cell_type": "markdown",
   "metadata": {},
   "source": [
    "I compared sample text 1 with itself to make sure that it was returning 1.0.\n",
    "\n",
    "All the other scores are within the range of 0 and 1, which is good, but I'd like to see what adding more metrics to the algorithm does to the scores."
   ]
  },
  {
   "cell_type": "code",
   "execution_count": 4,
   "metadata": {},
   "outputs": [],
   "source": [
    "#Plot 1: No position, no punctuation\n",
    "#Plot 2: Positioning, no punctuation\n",
    "#Plot 3: Positioning and punctuation\n",
    "\n",
    "s1 = ts.calculate_similarity(sample1_txt,sample2_txt)\n",
    "s2 = ts.calculate_similarity(sample1_txt,sample3_txt)\n",
    "\n",
    "plot1 = [s1,s2]\n",
    "\n",
    "s1 = ts.calculate_similarity(sample1_txt,sample2_txt,use_position=True)\n",
    "s2 = ts.calculate_similarity(sample1_txt,sample3_txt,use_position=True)\n",
    "\n",
    "plot2 = [s1,s2]\n",
    "\n",
    "s1 = ts.calculate_similarity(sample1_txt,sample2_txt,use_position=True,use_punctuation=True)\n",
    "s2 = ts.calculate_similarity(sample1_txt,sample3_txt,use_position=True,use_punctuation=True)\n",
    "\n",
    "plot3 = [s1,s2]\n",
    "\n",
    "y_axis = plot1 + plot2 + plot3"
   ]
  },
  {
   "cell_type": "code",
   "execution_count": 6,
   "metadata": {},
   "outputs": [
    {
     "data": {
      "image/png": "[encoded data removed]",
      "text/plain": [
       "<Figure size 432x288 with 1 Axes>"
      ]
     },
     "metadata": {
      "needs_background": "light"
     },
     "output_type": "display_data"
    }
   ],
   "source": [
    "labels = ['No position,\\nno punctuation', 'Positioning,\\nno punctuation', 'Positioning\\nand Punctuation']\n",
    "onevtwo = [y_axis[0], y_axis[2], y_axis[4]]\n",
    "onevthree = [y_axis[1], y_axis[3], y_axis[5]]\n",
    "\n",
    "x = np.arange(len(labels))  # the label locations\n",
    "width = 0.35  # the width of the bars\n",
    "\n",
    "fig, ax = plt.subplots()\n",
    "rects1 = ax.bar(x - width/2, onevtwo, width, label='1 vs 2')\n",
    "rects2 = ax.bar(x + width/2, onevthree, width, label='1 vs 3')\n",
    "\n",
    "ax.set_ylabel('Results')\n",
    "ax.set_title('Results by methods considered')\n",
    "ax.set_xticks(x)\n",
    "ax.set_xticklabels(labels)\n",
    "ax.legend()\n",
    "\n",
    "fig.tight_layout()\n",
    "fig.subplots_adjust(bottom=0.2)\n",
    "\n",
    "plt.show()"
   ]
  },
  {
   "cell_type": "code",
   "execution_count": null,
   "metadata": {},
   "outputs": [],
   "source": []
  }
 ],
 "metadata": {
  "kernelspec": {
   "display_name": "Python 3",
   "language": "python",
   "name": "python3"
  },
  "language_info": {
   "codemirror_mode": {
    "name": "ipython",
    "version": 3
   },
   "file_extension": ".py",
   "mimetype": "text/x-python",
   "name": "python",
   "nbconvert_exporter": "python",
   "pygments_lexer": "ipython3",
   "version": "3.8.2"
  }
 },
 "nbformat": 4,
 "nbformat_minor": 4
}
